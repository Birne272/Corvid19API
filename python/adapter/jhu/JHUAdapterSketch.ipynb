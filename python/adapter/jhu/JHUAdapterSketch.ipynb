{
 "cells": [
  {
   "cell_type": "code",
   "execution_count": 1,
   "metadata": {},
   "outputs": [],
   "source": [
    "import os"
   ]
  },
  {
   "cell_type": "code",
   "execution_count": 2,
   "metadata": {},
   "outputs": [
    {
     "name": "stdout",
     "output_type": "stream",
     "text": [
      "\u001b[34mCOVID-19\u001b[m\u001b[m               JHUAdapterSketch.ipynb\r\n"
     ]
    }
   ],
   "source": [
    "!ls"
   ]
  },
  {
   "cell_type": "code",
   "execution_count": 3,
   "metadata": {},
   "outputs": [],
   "source": [
    "CSVPATH= \"COVID-19/csse_covid_19_data/csse_covid_19_daily_reports\""
   ]
  },
  {
   "cell_type": "code",
   "execution_count": 8,
   "metadata": {},
   "outputs": [
    {
     "name": "stdout",
     "output_type": "stream",
     "text": [
      "02-26-2020.csv\n",
      "02-27-2020.csv\n",
      "02-18-2020.csv\n",
      "02-19-2020.csv\n",
      "03-10-2020.csv\n",
      "03-11-2020.csv\n",
      "02-12-2020.csv\n",
      "02-13-2020.csv\n",
      "03-07-2020.csv\n",
      "03-06-2020.csv\n",
      "02-05-2020.csv\n",
      "02-04-2020.csv\n",
      "02-08-2020.csv\n",
      "02-09-2020.csv\n",
      "03-01-2020.csv\n",
      "02-02-2020.csv\n",
      "02-03-2020.csv\n",
      "01-31-2020.csv\n",
      "01-30-2020.csv\n",
      "02-21-2020.csv\n",
      "02-20-2020.csv\n",
      "03-17-2020.csv\n",
      "03-16-2020.csv\n",
      "02-15-2020.csv\n",
      "02-14-2020.csv\n",
      "01-26-2020.csv\n",
      "01-27-2020.csv\n",
      "03-04-2020.csv\n",
      "03-05-2020.csv\n",
      "02-06-2020.csv\n",
      "02-07-2020.csv\n",
      "03-13-2020.csv\n",
      "03-12-2020.csv\n",
      "01-22-2020.csv\n",
      "01-23-2020.csv\n",
      "02-11-2020.csv\n",
      "02-10-2020.csv\n",
      "02-25-2020.csv\n",
      "02-24-2020.csv\n",
      "03-19-2020.csv\n",
      "03-18-2020.csv\n",
      "01-28-2020.csv\n",
      "01-29-2020.csv\n",
      "02-28-2020.csv\n",
      "02-29-2020.csv\n",
      "03-14-2020.csv\n",
      "03-15-2020.csv\n",
      "01-25-2020.csv\n",
      "01-24-2020.csv\n",
      "02-16-2020.csv\n",
      "02-17-2020.csv\n",
      "02-22-2020.csv\n",
      "02-23-2020.csv\n",
      "03-20-2020.csv\n",
      "03-21-2020.csv\n",
      "03-03-2020.csv\n",
      "03-02-2020.csv\n",
      "02-01-2020.csv\n",
      "03-09-2020.csv\n",
      "03-08-2020.csv\n"
     ]
    }
   ],
   "source": [
    "for root, dirs, files in os.walk(CSVPATH): \n",
    "    for file in files:\n",
    "        if os.path.splitext(file)[1] == \".csv\":\n",
    "            print(file)"
   ]
  },
  {
   "cell_type": "code",
   "execution_count": 9,
   "metadata": {},
   "outputs": [
    {
     "name": "stdout",
     "output_type": "stream",
     "text": [
      "Requirement already satisfied: pymongo in /usr/local/lib/python3.7/site-packages (3.10.1)\n",
      "Requirement already satisfied: pandas in /usr/local/lib/python3.7/site-packages (1.0.1)\n",
      "Requirement already satisfied: python-dateutil>=2.6.1 in /usr/local/lib/python3.7/site-packages (from pandas) (2.8.1)\n",
      "Requirement already satisfied: numpy>=1.13.3 in /usr/local/lib/python3.7/site-packages (from pandas) (1.18.1)\n",
      "Requirement already satisfied: pytz>=2017.2 in /usr/local/lib/python3.7/site-packages (from pandas) (2019.3)\n",
      "Requirement already satisfied: six>=1.5 in /usr/local/Cellar/protobuf/3.11.4/libexec/lib/python3.7/site-packages (from python-dateutil>=2.6.1->pandas) (1.14.0)\n"
     ]
    }
   ],
   "source": [
    "!pip3 install pymongo pandas"
   ]
  },
  {
   "cell_type": "code",
   "execution_count": null,
   "metadata": {},
   "outputs": [],
   "source": []
  },
  {
   "cell_type": "code",
   "execution_count": 12,
   "metadata": {},
   "outputs": [],
   "source": [
    "import pandas as pd\n",
    "import pymongo\n",
    "\n",
    "\n",
    "class DBConnection:\n",
    "  USER_NAME = \"root\"\n",
    "  PASSWORD = \"challenge1757\"\n",
    "\n",
    "  @staticmethod\n",
    "  def getConnection():\n",
    "    return pymongo.MongoClient(\"mongodb://\" + DBConnection.USER_NAME + \":\" + DBConnection.PASSWORD + \"@bene.gridpiloten.de:27017/\")\n",
    "\n",
    "  @staticmethod\n",
    "  def getStatisticDB():\n",
    "    return DBConnection.getConnection()[\"Statistic\"]\n",
    "\n"
   ]
  },
  {
   "cell_type": "code",
   "execution_count": 43,
   "metadata": {},
   "outputs": [],
   "source": [
    "conn = DBConnection()\n",
    "statsdb = conn.getStatisticDB()"
   ]
  },
  {
   "cell_type": "code",
   "execution_count": 106,
   "metadata": {},
   "outputs": [],
   "source": [
    "for case in statsdb['cases'].find({'source.name': 'JHUTest'}):\n",
    "    print(case)"
   ]
  },
  {
   "cell_type": "code",
   "execution_count": 65,
   "metadata": {},
   "outputs": [
    {
     "name": "stdout",
     "output_type": "stream",
     "text": [
      "COVID-19/csse_covid_19_data/csse_covid_19_daily_reports/02-09-2020.csv\n"
     ]
    },
    {
     "data": {
      "text/html": [
       "<div>\n",
       "<style scoped>\n",
       "    .dataframe tbody tr th:only-of-type {\n",
       "        vertical-align: middle;\n",
       "    }\n",
       "\n",
       "    .dataframe tbody tr th {\n",
       "        vertical-align: top;\n",
       "    }\n",
       "\n",
       "    .dataframe thead th {\n",
       "        text-align: right;\n",
       "    }\n",
       "</style>\n",
       "<table border=\"1\" class=\"dataframe\">\n",
       "  <thead>\n",
       "    <tr style=\"text-align: right;\">\n",
       "      <th></th>\n",
       "      <th>Province/State</th>\n",
       "      <th>Country/Region</th>\n",
       "      <th>Last Update</th>\n",
       "      <th>Confirmed</th>\n",
       "      <th>Deaths</th>\n",
       "      <th>Recovered</th>\n",
       "    </tr>\n",
       "  </thead>\n",
       "  <tbody>\n",
       "    <tr>\n",
       "      <th>0</th>\n",
       "      <td>Hubei</td>\n",
       "      <td>Mainland China</td>\n",
       "      <td>2020-02-09T23:33:02</td>\n",
       "      <td>29631</td>\n",
       "      <td>871</td>\n",
       "      <td>1795</td>\n",
       "    </tr>\n",
       "    <tr>\n",
       "      <th>1</th>\n",
       "      <td>Guangdong</td>\n",
       "      <td>Mainland China</td>\n",
       "      <td>2020-02-09T15:03:05</td>\n",
       "      <td>1131</td>\n",
       "      <td>1</td>\n",
       "      <td>141</td>\n",
       "    </tr>\n",
       "    <tr>\n",
       "      <th>2</th>\n",
       "      <td>Zhejiang</td>\n",
       "      <td>Mainland China</td>\n",
       "      <td>2020-02-09T12:03:04</td>\n",
       "      <td>1075</td>\n",
       "      <td>0</td>\n",
       "      <td>201</td>\n",
       "    </tr>\n",
       "    <tr>\n",
       "      <th>3</th>\n",
       "      <td>Henan</td>\n",
       "      <td>Mainland China</td>\n",
       "      <td>2020-02-09T11:23:08</td>\n",
       "      <td>1033</td>\n",
       "      <td>6</td>\n",
       "      <td>153</td>\n",
       "    </tr>\n",
       "    <tr>\n",
       "      <th>4</th>\n",
       "      <td>Hunan</td>\n",
       "      <td>Mainland China</td>\n",
       "      <td>2020-02-09T12:33:01</td>\n",
       "      <td>838</td>\n",
       "      <td>1</td>\n",
       "      <td>186</td>\n",
       "    </tr>\n",
       "  </tbody>\n",
       "</table>\n",
       "</div>"
      ],
      "text/plain": [
       "  Province/State  Country/Region          Last Update  Confirmed  Deaths  \\\n",
       "0          Hubei  Mainland China  2020-02-09T23:33:02      29631     871   \n",
       "1      Guangdong  Mainland China  2020-02-09T15:03:05       1131       1   \n",
       "2       Zhejiang  Mainland China  2020-02-09T12:03:04       1075       0   \n",
       "3          Henan  Mainland China  2020-02-09T11:23:08       1033       6   \n",
       "4          Hunan  Mainland China  2020-02-09T12:33:01        838       1   \n",
       "\n",
       "   Recovered  \n",
       "0       1795  \n",
       "1        141  \n",
       "2        201  \n",
       "3        153  \n",
       "4        186  "
      ]
     },
     "execution_count": 65,
     "metadata": {},
     "output_type": "execute_result"
    }
   ],
   "source": [
    "def readJHUCSV(file):\n",
    "    print(file)\n",
    "    \n",
    "    df = pd.read_csv(file)\n",
    "    df.head()\n",
    "    \n",
    "readJHUCSV(CSVPATH +  '/' + '02-09-2020.csv')\n"
   ]
  },
  {
   "cell_type": "code",
   "execution_count": 48,
   "metadata": {},
   "outputs": [
    {
     "name": "stdout",
     "output_type": "stream",
     "text": [
      "_id\n",
      "name\n",
      "url\n"
     ]
    }
   ],
   "source": [
    "for source in statsdb['Source'].find_one():\n",
    "    print(source)"
   ]
  },
  {
   "cell_type": "code",
   "execution_count": 102,
   "metadata": {},
   "outputs": [
    {
     "data": {
      "text/plain": [
       "{'_id': ObjectId('5e7722c8c60eac3be3ea8abb'),\n",
       " 'name': 'JHUTest',\n",
       " 'url': 'foo.bar'}"
      ]
     },
     "execution_count": 102,
     "metadata": {},
     "output_type": "execute_result"
    }
   ],
   "source": [
    "statsdb['Source'].find_one({'name': 'JHUTest'})"
   ]
  },
  {
   "cell_type": "code",
   "execution_count": 61,
   "metadata": {},
   "outputs": [],
   "source": [
    "import pandas as pd\n",
    "import numpy as np\n",
    "from datetime import datetime,timedelta"
   ]
  },
  {
   "cell_type": "code",
   "execution_count": 76,
   "metadata": {},
   "outputs": [
    {
     "data": {
      "text/html": [
       "<div>\n",
       "<style scoped>\n",
       "    .dataframe tbody tr th:only-of-type {\n",
       "        vertical-align: middle;\n",
       "    }\n",
       "\n",
       "    .dataframe tbody tr th {\n",
       "        vertical-align: top;\n",
       "    }\n",
       "\n",
       "    .dataframe thead th {\n",
       "        text-align: right;\n",
       "    }\n",
       "</style>\n",
       "<table border=\"1\" class=\"dataframe\">\n",
       "  <thead>\n",
       "    <tr style=\"text-align: right;\">\n",
       "      <th></th>\n",
       "      <th>Province/State</th>\n",
       "      <th>Country/Region</th>\n",
       "      <th>Last Update</th>\n",
       "      <th>Confirmed</th>\n",
       "      <th>Deaths</th>\n",
       "      <th>Recovered</th>\n",
       "    </tr>\n",
       "  </thead>\n",
       "  <tbody>\n",
       "    <tr>\n",
       "      <th>0</th>\n",
       "      <td>Hubei</td>\n",
       "      <td>Mainland China</td>\n",
       "      <td>2020-02-09T23:33:02</td>\n",
       "      <td>29631</td>\n",
       "      <td>871</td>\n",
       "      <td>1795</td>\n",
       "    </tr>\n",
       "    <tr>\n",
       "      <th>1</th>\n",
       "      <td>Guangdong</td>\n",
       "      <td>Mainland China</td>\n",
       "      <td>2020-02-09T15:03:05</td>\n",
       "      <td>1131</td>\n",
       "      <td>1</td>\n",
       "      <td>141</td>\n",
       "    </tr>\n",
       "    <tr>\n",
       "      <th>2</th>\n",
       "      <td>Zhejiang</td>\n",
       "      <td>Mainland China</td>\n",
       "      <td>2020-02-09T12:03:04</td>\n",
       "      <td>1075</td>\n",
       "      <td>0</td>\n",
       "      <td>201</td>\n",
       "    </tr>\n",
       "    <tr>\n",
       "      <th>3</th>\n",
       "      <td>Henan</td>\n",
       "      <td>Mainland China</td>\n",
       "      <td>2020-02-09T11:23:08</td>\n",
       "      <td>1033</td>\n",
       "      <td>6</td>\n",
       "      <td>153</td>\n",
       "    </tr>\n",
       "    <tr>\n",
       "      <th>4</th>\n",
       "      <td>Hunan</td>\n",
       "      <td>Mainland China</td>\n",
       "      <td>2020-02-09T12:33:01</td>\n",
       "      <td>838</td>\n",
       "      <td>1</td>\n",
       "      <td>186</td>\n",
       "    </tr>\n",
       "  </tbody>\n",
       "</table>\n",
       "</div>"
      ],
      "text/plain": [
       "  Province/State  Country/Region          Last Update  Confirmed  Deaths  \\\n",
       "0          Hubei  Mainland China  2020-02-09T23:33:02      29631     871   \n",
       "1      Guangdong  Mainland China  2020-02-09T15:03:05       1131       1   \n",
       "2       Zhejiang  Mainland China  2020-02-09T12:03:04       1075       0   \n",
       "3          Henan  Mainland China  2020-02-09T11:23:08       1033       6   \n",
       "4          Hunan  Mainland China  2020-02-09T12:33:01        838       1   \n",
       "\n",
       "   Recovered  \n",
       "0       1795  \n",
       "1        141  \n",
       "2        201  \n",
       "3        153  \n",
       "4        186  "
      ]
     },
     "execution_count": 76,
     "metadata": {},
     "output_type": "execute_result"
    }
   ],
   "source": [
    "df = pd.read_csv(CSVPATH +  '/' + '02-09-2020.csv')\n",
    "df.head()"
   ]
  },
  {
   "cell_type": "code",
   "execution_count": 69,
   "metadata": {},
   "outputs": [
    {
     "data": {
      "text/plain": [
       "0    2020-02-09 23:33:02\n",
       "1    2020-02-09 15:03:05\n",
       "2    2020-02-09 12:03:04\n",
       "3    2020-02-09 11:23:08\n",
       "4    2020-02-09 12:33:01\n",
       "             ...        \n",
       "67   2020-02-01 19:53:03\n",
       "68   2020-02-05 21:53:02\n",
       "69   2020-02-01 19:53:03\n",
       "70   2020-02-09 07:03:04\n",
       "71   2020-02-01 19:43:03\n",
       "Name: Last Update, Length: 72, dtype: datetime64[ns]"
      ]
     },
     "execution_count": 69,
     "metadata": {},
     "output_type": "execute_result"
    }
   ],
   "source": []
  },
  {
   "cell_type": "code",
   "execution_count": 77,
   "metadata": {},
   "outputs": [],
   "source": [
    "map_country = pd.read_csv(\"country_mapping.csv\", sep=\";\")\n",
    "for index, row in map_country.iterrows():\n",
    "    df.loc[df['Country/Region'] == row['cases'], \"Country/Region\"] = row['world_bank']\n"
   ]
  },
  {
   "cell_type": "code",
   "execution_count": 78,
   "metadata": {},
   "outputs": [
    {
     "data": {
      "text/html": [
       "<div>\n",
       "<style scoped>\n",
       "    .dataframe tbody tr th:only-of-type {\n",
       "        vertical-align: middle;\n",
       "    }\n",
       "\n",
       "    .dataframe tbody tr th {\n",
       "        vertical-align: top;\n",
       "    }\n",
       "\n",
       "    .dataframe thead th {\n",
       "        text-align: right;\n",
       "    }\n",
       "</style>\n",
       "<table border=\"1\" class=\"dataframe\">\n",
       "  <thead>\n",
       "    <tr style=\"text-align: right;\">\n",
       "      <th></th>\n",
       "      <th>Province/State</th>\n",
       "      <th>Country/Region</th>\n",
       "      <th>Last Update</th>\n",
       "      <th>Confirmed</th>\n",
       "      <th>Deaths</th>\n",
       "      <th>Recovered</th>\n",
       "    </tr>\n",
       "  </thead>\n",
       "  <tbody>\n",
       "    <tr>\n",
       "      <th>0</th>\n",
       "      <td>Hubei</td>\n",
       "      <td>China</td>\n",
       "      <td>2020-02-09T23:33:02</td>\n",
       "      <td>29631</td>\n",
       "      <td>871</td>\n",
       "      <td>1795</td>\n",
       "    </tr>\n",
       "    <tr>\n",
       "      <th>1</th>\n",
       "      <td>Guangdong</td>\n",
       "      <td>China</td>\n",
       "      <td>2020-02-09T15:03:05</td>\n",
       "      <td>1131</td>\n",
       "      <td>1</td>\n",
       "      <td>141</td>\n",
       "    </tr>\n",
       "    <tr>\n",
       "      <th>2</th>\n",
       "      <td>Zhejiang</td>\n",
       "      <td>China</td>\n",
       "      <td>2020-02-09T12:03:04</td>\n",
       "      <td>1075</td>\n",
       "      <td>0</td>\n",
       "      <td>201</td>\n",
       "    </tr>\n",
       "    <tr>\n",
       "      <th>3</th>\n",
       "      <td>Henan</td>\n",
       "      <td>China</td>\n",
       "      <td>2020-02-09T11:23:08</td>\n",
       "      <td>1033</td>\n",
       "      <td>6</td>\n",
       "      <td>153</td>\n",
       "    </tr>\n",
       "    <tr>\n",
       "      <th>4</th>\n",
       "      <td>Hunan</td>\n",
       "      <td>China</td>\n",
       "      <td>2020-02-09T12:33:01</td>\n",
       "      <td>838</td>\n",
       "      <td>1</td>\n",
       "      <td>186</td>\n",
       "    </tr>\n",
       "  </tbody>\n",
       "</table>\n",
       "</div>"
      ],
      "text/plain": [
       "  Province/State Country/Region          Last Update  Confirmed  Deaths  \\\n",
       "0          Hubei          China  2020-02-09T23:33:02      29631     871   \n",
       "1      Guangdong          China  2020-02-09T15:03:05       1131       1   \n",
       "2       Zhejiang          China  2020-02-09T12:03:04       1075       0   \n",
       "3          Henan          China  2020-02-09T11:23:08       1033       6   \n",
       "4          Hunan          China  2020-02-09T12:33:01        838       1   \n",
       "\n",
       "   Recovered  \n",
       "0       1795  \n",
       "1        141  \n",
       "2        201  \n",
       "3        153  \n",
       "4        186  "
      ]
     },
     "execution_count": 78,
     "metadata": {},
     "output_type": "execute_result"
    }
   ],
   "source": [
    "df.head()"
   ]
  },
  {
   "cell_type": "code",
   "execution_count": 80,
   "metadata": {},
   "outputs": [],
   "source": [
    "import sys\n",
    "sys.path.insert(1, '../../api')\n",
    "from cases import Cases"
   ]
  },
  {
   "cell_type": "code",
   "execution_count": 87,
   "metadata": {},
   "outputs": [],
   "source": [
    "import requests"
   ]
  },
  {
   "cell_type": "code",
   "execution_count": 88,
   "metadata": {},
   "outputs": [
    {
     "data": {
      "text/plain": [
       "{'_id': 'string',\n",
       " 'adm': ['string'],\n",
       " 'ageRange': {'lower': 0, 'upper': 0},\n",
       " 'date': 'string',\n",
       " 'dead': 0,\n",
       " 'infected': 0,\n",
       " 'recovered': 0,\n",
       " 'sex': 'string',\n",
       " 'source': 'string',\n",
       " 'tested': 0}"
      ]
     },
     "execution_count": 88,
     "metadata": {},
     "output_type": "execute_result"
    }
   ],
   "source": [
    "{\n",
    "  \"_id\": \"string\",\n",
    "  \"adm\": [\n",
    "    \"string\"\n",
    "  ],\n",
    "  \"ageRange\": {\n",
    "    \"lower\": 0,\n",
    "    \"upper\": 0\n",
    "  },\n",
    "  \"date\": \"string\",\n",
    "  \"dead\": 0,\n",
    "  \"infected\": 0,\n",
    "  \"recovered\": 0,\n",
    "  \"sex\": \"string\",\n",
    "  \"source\": \"string\",\n",
    "  \"tested\": 0\n",
    "}\n",
    "\n"
   ]
  },
  {
   "cell_type": "code",
   "execution_count": 138,
   "metadata": {},
   "outputs": [
    {
     "name": "stdout",
     "output_type": "stream",
     "text": [
      "{\"date\": \"2020-02-09\", \"dead\": 871, \"infected\": 29631, \"recovered\": 1795, \"source\": \"JHUTest\", \"adm\": [\"China\", \"Hubei\"], \"ageRange\": {\"lower\": 0, \"upper\": 0}, \"sex\": \"NaN\", \"tested\": 0}\n"
     ]
    }
   ],
   "source": [
    "for index, row in df.iterrows():\n",
    "    data = {}\n",
    "    FMT = '%Y-%m-%dT%H:%M:%S'\n",
    "    date = datetime.datetime.strptime(str(row['Last Update']), FMT)\n",
    "    \n",
    "    data['date'] = date.strftime('%Y-%m-%d')\n",
    "    data['dead'] = row['Deaths']\n",
    "    data['infected'] = row['Confirmed']\n",
    "    data['recovered'] = row['Recovered']\n",
    "    data['source'] = 'JHUTest'\n",
    "    adm = []\n",
    "    adm.append(row['Country/Region'])\n",
    "    adm.append(row['Province/State'])\n",
    "    data['adm'] = adm\n",
    "    agerange = {}\n",
    "    agerange['lower'] = 0\n",
    "    agerange['upper'] = 0\n",
    "    data['ageRange'] = agerange\n",
    "    \n",
    "    data['sex'] = 'NaN'\n",
    "    data['tested'] = 0\n",
    "    print(json.dumps(data))\n",
    "    r = requests.put('http://bene.gridpiloten.de:4711/api/cases', json = data)\n",
    "    "
   ]
  },
  {
   "cell_type": "code",
   "execution_count": 137,
   "metadata": {},
   "outputs": [
    {
     "data": {
      "text/plain": [
       "<pymongo.results.DeleteResult at 0x128283460>"
      ]
     },
     "execution_count": 137,
     "metadata": {},
     "output_type": "execute_result"
    }
   ],
   "source": [
    "statsdb['cases'].delete_many({'source.name': 'JHUTest'})"
   ]
  },
  {
   "cell_type": "code",
   "execution_count": 119,
   "metadata": {},
   "outputs": [],
   "source": [
    "import datetime"
   ]
  },
  {
   "cell_type": "code",
   "execution_count": 129,
   "metadata": {},
   "outputs": [],
   "source": [
    "import json"
   ]
  },
  {
   "cell_type": "code",
   "execution_count": null,
   "metadata": {},
   "outputs": [],
   "source": []
  }
 ],
 "metadata": {
  "kernelspec": {
   "display_name": "Python 3",
   "language": "python",
   "name": "python3"
  },
  "language_info": {
   "codemirror_mode": {
    "name": "ipython",
    "version": 3
   },
   "file_extension": ".py",
   "mimetype": "text/x-python",
   "name": "python",
   "nbconvert_exporter": "python",
   "pygments_lexer": "ipython3",
   "version": "3.7.7"
  }
 },
 "nbformat": 4,
 "nbformat_minor": 4
}
